{
 "cells": [
  {
   "cell_type": "code",
   "execution_count": 1,
   "metadata": {},
   "outputs": [],
   "source": [
    "import numpy as np\n",
    "import pandas as pd\n",
    "import matplotlib.pyplot as plt\n",
    "%matplotlib inline"
   ]
  },
  {
   "cell_type": "code",
   "execution_count": 2,
   "metadata": {},
   "outputs": [],
   "source": [
    "df = pd.read_csv('../Dados/CSV/point5000.csv')"
   ]
  },
  {
   "cell_type": "code",
   "execution_count": 3,
   "metadata": {},
   "outputs": [
    {
     "data": {
      "text/html": [
       "<div>\n",
       "<style scoped>\n",
       "    .dataframe tbody tr th:only-of-type {\n",
       "        vertical-align: middle;\n",
       "    }\n",
       "\n",
       "    .dataframe tbody tr th {\n",
       "        vertical-align: top;\n",
       "    }\n",
       "\n",
       "    .dataframe thead th {\n",
       "        text-align: right;\n",
       "    }\n",
       "</style>\n",
       "<table border=\"1\" class=\"dataframe\">\n",
       "  <thead>\n",
       "    <tr style=\"text-align: right;\">\n",
       "      <th></th>\n",
       "      <th>id</th>\n",
       "      <th>epac</th>\n",
       "      <th>USO_2015</th>\n",
       "      <th>B1</th>\n",
       "      <th>B2</th>\n",
       "      <th>B3</th>\n",
       "      <th>B4</th>\n",
       "      <th>B5</th>\n",
       "      <th>B6</th>\n",
       "      <th>B7</th>\n",
       "      <th>B1.1</th>\n",
       "      <th>B2.1</th>\n",
       "      <th>B3.1</th>\n",
       "      <th>B4.1</th>\n",
       "      <th>B5.1</th>\n",
       "      <th>B6.1</th>\n",
       "      <th>B7.1</th>\n",
       "    </tr>\n",
       "  </thead>\n",
       "  <tbody>\n",
       "    <tr>\n",
       "      <th>0</th>\n",
       "      <td>887</td>\n",
       "      <td>a</td>\n",
       "      <td>ROCHA</td>\n",
       "      <td>8437.818438</td>\n",
       "      <td>7719.032383</td>\n",
       "      <td>7173.540135</td>\n",
       "      <td>6628.093034</td>\n",
       "      <td>11887.028173</td>\n",
       "      <td>10047.598934</td>\n",
       "      <td>7666.984792</td>\n",
       "      <td>0.427021</td>\n",
       "      <td>0.391512</td>\n",
       "      <td>0.364547</td>\n",
       "      <td>0.337578</td>\n",
       "      <td>0.597521</td>\n",
       "      <td>0.325896</td>\n",
       "      <td>0.251033</td>\n",
       "    </tr>\n",
       "    <tr>\n",
       "      <th>1</th>\n",
       "      <td>1174</td>\n",
       "      <td>a</td>\n",
       "      <td>ROCHA</td>\n",
       "      <td>8465.084335</td>\n",
       "      <td>7742.233643</td>\n",
       "      <td>7332.444501</td>\n",
       "      <td>6595.879132</td>\n",
       "      <td>15583.545194</td>\n",
       "      <td>10903.904403</td>\n",
       "      <td>7845.405297</td>\n",
       "      <td>0.428366</td>\n",
       "      <td>0.392656</td>\n",
       "      <td>0.372402</td>\n",
       "      <td>0.335987</td>\n",
       "      <td>0.780239</td>\n",
       "      <td>0.352816</td>\n",
       "      <td>0.256646</td>\n",
       "    </tr>\n",
       "    <tr>\n",
       "      <th>2</th>\n",
       "      <td>4272</td>\n",
       "      <td>a</td>\n",
       "      <td>ROCHA</td>\n",
       "      <td>8101.581027</td>\n",
       "      <td>7299.567316</td>\n",
       "      <td>6300.519469</td>\n",
       "      <td>5750.398151</td>\n",
       "      <td>5947.106534</td>\n",
       "      <td>5215.316921</td>\n",
       "      <td>5081.238643</td>\n",
       "      <td>0.410403</td>\n",
       "      <td>0.370778</td>\n",
       "      <td>0.321395</td>\n",
       "      <td>0.294193</td>\n",
       "      <td>0.303915</td>\n",
       "      <td>0.173958</td>\n",
       "      <td>0.169733</td>\n",
       "    </tr>\n",
       "    <tr>\n",
       "      <th>3</th>\n",
       "      <td>4884</td>\n",
       "      <td>a</td>\n",
       "      <td>ROCHA</td>\n",
       "      <td>8436.934048</td>\n",
       "      <td>7680.410630</td>\n",
       "      <td>6868.116697</td>\n",
       "      <td>6368.261542</td>\n",
       "      <td>9259.926548</td>\n",
       "      <td>8044.223838</td>\n",
       "      <td>6921.642563</td>\n",
       "      <td>0.426977</td>\n",
       "      <td>0.389603</td>\n",
       "      <td>0.349450</td>\n",
       "      <td>0.324734</td>\n",
       "      <td>0.467661</td>\n",
       "      <td>0.262901</td>\n",
       "      <td>0.227598</td>\n",
       "    </tr>\n",
       "    <tr>\n",
       "      <th>4</th>\n",
       "      <td>4915</td>\n",
       "      <td>a</td>\n",
       "      <td>ROCHA</td>\n",
       "      <td>8480.928720</td>\n",
       "      <td>7751.628078</td>\n",
       "      <td>7294.537935</td>\n",
       "      <td>6567.613085</td>\n",
       "      <td>16023.725229</td>\n",
       "      <td>10505.149220</td>\n",
       "      <td>7272.544194</td>\n",
       "      <td>0.429155</td>\n",
       "      <td>0.393122</td>\n",
       "      <td>0.370530</td>\n",
       "      <td>0.334592</td>\n",
       "      <td>0.801994</td>\n",
       "      <td>0.340278</td>\n",
       "      <td>0.238630</td>\n",
       "    </tr>\n",
       "  </tbody>\n",
       "</table>\n",
       "</div>"
      ],
      "text/plain": [
       "     id epac USO_2015           B1           B2           B3           B4  \\\n",
       "0   887    a    ROCHA  8437.818438  7719.032383  7173.540135  6628.093034   \n",
       "1  1174    a    ROCHA  8465.084335  7742.233643  7332.444501  6595.879132   \n",
       "2  4272    a    ROCHA  8101.581027  7299.567316  6300.519469  5750.398151   \n",
       "3  4884    a    ROCHA  8436.934048  7680.410630  6868.116697  6368.261542   \n",
       "4  4915    a    ROCHA  8480.928720  7751.628078  7294.537935  6567.613085   \n",
       "\n",
       "             B5            B6           B7      B1.1      B2.1      B3.1  \\\n",
       "0  11887.028173  10047.598934  7666.984792  0.427021  0.391512  0.364547   \n",
       "1  15583.545194  10903.904403  7845.405297  0.428366  0.392656  0.372402   \n",
       "2   5947.106534   5215.316921  5081.238643  0.410403  0.370778  0.321395   \n",
       "3   9259.926548   8044.223838  6921.642563  0.426977  0.389603  0.349450   \n",
       "4  16023.725229  10505.149220  7272.544194  0.429155  0.393122  0.370530   \n",
       "\n",
       "       B4.1      B5.1      B6.1      B7.1  \n",
       "0  0.337578  0.597521  0.325896  0.251033  \n",
       "1  0.335987  0.780239  0.352816  0.256646  \n",
       "2  0.294193  0.303915  0.173958  0.169733  \n",
       "3  0.324734  0.467661  0.262901  0.227598  \n",
       "4  0.334592  0.801994  0.340278  0.238630  "
      ]
     },
     "execution_count": 3,
     "metadata": {},
     "output_type": "execute_result"
    }
   ],
   "source": [
    "df.head()"
   ]
  },
  {
   "cell_type": "markdown",
   "metadata": {},
   "source": [
    "# Preparando a variável x e y"
   ]
  },
  {
   "cell_type": "code",
   "execution_count": 4,
   "metadata": {},
   "outputs": [],
   "source": [
    "# y\n",
    "y = df.iloc[:,2]"
   ]
  },
  {
   "cell_type": "code",
   "execution_count": 6,
   "metadata": {},
   "outputs": [],
   "source": [
    "from sklearn.preprocessing import OrdinalEncoder,CategoricalEncoder, LabelEncoder,OneHotEncoder, LabelBinarizer"
   ]
  },
  {
   "cell_type": "code",
   "execution_count": 247,
   "metadata": {},
   "outputs": [],
   "source": [
    "# Cat de forma binária \n",
    "le = LabelBinarizer()"
   ]
  },
  {
   "cell_type": "code",
   "execution_count": 248,
   "metadata": {},
   "outputs": [],
   "source": [
    "y= le.fit_transform(y)"
   ]
  },
  {
   "cell_type": "code",
   "execution_count": 249,
   "metadata": {
    "scrolled": true
   },
   "outputs": [],
   "source": [
    "yL=pd.DataFrame(y,columns=le.classes_).head()"
   ]
  },
  {
   "cell_type": "code",
   "execution_count": 250,
   "metadata": {},
   "outputs": [
    {
     "data": {
      "text/html": [
       "<div>\n",
       "<style scoped>\n",
       "    .dataframe tbody tr th:only-of-type {\n",
       "        vertical-align: middle;\n",
       "    }\n",
       "\n",
       "    .dataframe tbody tr th {\n",
       "        vertical-align: top;\n",
       "    }\n",
       "\n",
       "    .dataframe thead th {\n",
       "        text-align: right;\n",
       "    }\n",
       "</style>\n",
       "<table border=\"1\" class=\"dataframe\">\n",
       "  <thead>\n",
       "    <tr style=\"text-align: right;\">\n",
       "      <th></th>\n",
       "      <th>AGRICULTURA</th>\n",
       "      <th>AGUA</th>\n",
       "      <th>AUMIDAS</th>\n",
       "      <th>FLORESTA</th>\n",
       "      <th>MANGUE</th>\n",
       "      <th>PASTAGEM</th>\n",
       "      <th>ROCHA</th>\n",
       "      <th>SOLO</th>\n",
       "      <th>URBANO</th>\n",
       "    </tr>\n",
       "  </thead>\n",
       "  <tbody>\n",
       "    <tr>\n",
       "      <th>0</th>\n",
       "      <td>0</td>\n",
       "      <td>0</td>\n",
       "      <td>0</td>\n",
       "      <td>0</td>\n",
       "      <td>0</td>\n",
       "      <td>0</td>\n",
       "      <td>1</td>\n",
       "      <td>0</td>\n",
       "      <td>0</td>\n",
       "    </tr>\n",
       "    <tr>\n",
       "      <th>1</th>\n",
       "      <td>0</td>\n",
       "      <td>0</td>\n",
       "      <td>0</td>\n",
       "      <td>0</td>\n",
       "      <td>0</td>\n",
       "      <td>0</td>\n",
       "      <td>1</td>\n",
       "      <td>0</td>\n",
       "      <td>0</td>\n",
       "    </tr>\n",
       "    <tr>\n",
       "      <th>2</th>\n",
       "      <td>0</td>\n",
       "      <td>0</td>\n",
       "      <td>0</td>\n",
       "      <td>0</td>\n",
       "      <td>0</td>\n",
       "      <td>0</td>\n",
       "      <td>1</td>\n",
       "      <td>0</td>\n",
       "      <td>0</td>\n",
       "    </tr>\n",
       "    <tr>\n",
       "      <th>3</th>\n",
       "      <td>0</td>\n",
       "      <td>0</td>\n",
       "      <td>0</td>\n",
       "      <td>0</td>\n",
       "      <td>0</td>\n",
       "      <td>0</td>\n",
       "      <td>1</td>\n",
       "      <td>0</td>\n",
       "      <td>0</td>\n",
       "    </tr>\n",
       "    <tr>\n",
       "      <th>4</th>\n",
       "      <td>0</td>\n",
       "      <td>0</td>\n",
       "      <td>0</td>\n",
       "      <td>0</td>\n",
       "      <td>0</td>\n",
       "      <td>0</td>\n",
       "      <td>1</td>\n",
       "      <td>0</td>\n",
       "      <td>0</td>\n",
       "    </tr>\n",
       "  </tbody>\n",
       "</table>\n",
       "</div>"
      ],
      "text/plain": [
       "   AGRICULTURA  AGUA  AUMIDAS  FLORESTA  MANGUE  PASTAGEM  ROCHA  SOLO  URBANO\n",
       "0            0     0        0         0       0         0      1     0       0\n",
       "1            0     0        0         0       0         0      1     0       0\n",
       "2            0     0        0         0       0         0      1     0       0\n",
       "3            0     0        0         0       0         0      1     0       0\n",
       "4            0     0        0         0       0         0      1     0       0"
      ]
     },
     "execution_count": 250,
     "metadata": {},
     "output_type": "execute_result"
    }
   ],
   "source": [
    "yL"
   ]
  },
  {
   "cell_type": "code",
   "execution_count": 251,
   "metadata": {},
   "outputs": [
    {
     "data": {
      "text/plain": [
       "array(['AGRICULTURA', 'AGUA', 'AUMIDAS', 'FLORESTA', 'MANGUE', 'PASTAGEM',\n",
       "       'ROCHA', 'SOLO', 'URBANO'], dtype='<U11')"
      ]
     },
     "execution_count": 251,
     "metadata": {},
     "output_type": "execute_result"
    }
   ],
   "source": [
    "le.classes_"
   ]
  },
  {
   "cell_type": "code",
   "execution_count": 252,
   "metadata": {},
   "outputs": [
    {
     "data": {
      "text/plain": [
       "array([[0, 0, 0, ..., 1, 0, 0],\n",
       "       [0, 0, 0, ..., 1, 0, 0],\n",
       "       [0, 0, 0, ..., 1, 0, 0],\n",
       "       ...,\n",
       "       [0, 0, 0, ..., 0, 0, 0],\n",
       "       [0, 0, 0, ..., 0, 0, 0],\n",
       "       [0, 0, 0, ..., 0, 0, 0]])"
      ]
     },
     "execution_count": 252,
     "metadata": {},
     "output_type": "execute_result"
    }
   ],
   "source": [
    "y"
   ]
  },
  {
   "cell_type": "code",
   "execution_count": 5,
   "metadata": {},
   "outputs": [],
   "source": [
    "from sklearn.externals import joblib"
   ]
  },
  {
   "cell_type": "code",
   "execution_count": 17,
   "metadata": {},
   "outputs": [
    {
     "data": {
      "text/plain": [
       "['../modelos/inverse.pk1']"
      ]
     },
     "execution_count": 17,
     "metadata": {},
     "output_type": "execute_result"
    }
   ],
   "source": [
    "joblib.dump(le,'../modelos/inverse.pk1')"
   ]
  },
  {
   "cell_type": "code",
   "execution_count": 19,
   "metadata": {},
   "outputs": [],
   "source": [
    "# x\n",
    "x =df.iloc[:,6:9]"
   ]
  },
  {
   "cell_type": "code",
   "execution_count": 18,
   "metadata": {},
   "outputs": [
    {
     "data": {
      "text/html": [
       "<div>\n",
       "<style scoped>\n",
       "    .dataframe tbody tr th:only-of-type {\n",
       "        vertical-align: middle;\n",
       "    }\n",
       "\n",
       "    .dataframe tbody tr th {\n",
       "        vertical-align: top;\n",
       "    }\n",
       "\n",
       "    .dataframe thead th {\n",
       "        text-align: right;\n",
       "    }\n",
       "</style>\n",
       "<table border=\"1\" class=\"dataframe\">\n",
       "  <thead>\n",
       "    <tr style=\"text-align: right;\">\n",
       "      <th></th>\n",
       "      <th>B4</th>\n",
       "      <th>B5</th>\n",
       "      <th>B6</th>\n",
       "    </tr>\n",
       "  </thead>\n",
       "  <tbody>\n",
       "    <tr>\n",
       "      <th>0</th>\n",
       "      <td>6628.093034</td>\n",
       "      <td>11887.028173</td>\n",
       "      <td>10047.598934</td>\n",
       "    </tr>\n",
       "    <tr>\n",
       "      <th>1</th>\n",
       "      <td>6595.879132</td>\n",
       "      <td>15583.545194</td>\n",
       "      <td>10903.904403</td>\n",
       "    </tr>\n",
       "    <tr>\n",
       "      <th>2</th>\n",
       "      <td>5750.398151</td>\n",
       "      <td>5947.106534</td>\n",
       "      <td>5215.316921</td>\n",
       "    </tr>\n",
       "    <tr>\n",
       "      <th>3</th>\n",
       "      <td>6368.261542</td>\n",
       "      <td>9259.926548</td>\n",
       "      <td>8044.223838</td>\n",
       "    </tr>\n",
       "    <tr>\n",
       "      <th>4</th>\n",
       "      <td>6567.613085</td>\n",
       "      <td>16023.725229</td>\n",
       "      <td>10505.149220</td>\n",
       "    </tr>\n",
       "  </tbody>\n",
       "</table>\n",
       "</div>"
      ],
      "text/plain": [
       "            B4            B5            B6\n",
       "0  6628.093034  11887.028173  10047.598934\n",
       "1  6595.879132  15583.545194  10903.904403\n",
       "2  5750.398151   5947.106534   5215.316921\n",
       "3  6368.261542   9259.926548   8044.223838\n",
       "4  6567.613085  16023.725229  10505.149220"
      ]
     },
     "execution_count": 18,
     "metadata": {},
     "output_type": "execute_result"
    }
   ],
   "source": [
    "df.iloc[:,6:9].head()"
   ]
  },
  {
   "cell_type": "code",
   "execution_count": 20,
   "metadata": {},
   "outputs": [],
   "source": [
    "#padronizando \n",
    "\n",
    "from sklearn.preprocessing import StandardScaler"
   ]
  },
  {
   "cell_type": "code",
   "execution_count": 21,
   "metadata": {},
   "outputs": [],
   "source": [
    "Stand = StandardScaler()\n",
    "x = Stand.fit(x).transform(x)"
   ]
  },
  {
   "cell_type": "code",
   "execution_count": 22,
   "metadata": {},
   "outputs": [],
   "source": [
    "# separando \n",
    "from sklearn.model_selection import train_test_split\n",
    "\n",
    "X_train, X_test, y_train, y_test = train_test_split(x, y, test_size = 0.33)"
   ]
  },
  {
   "cell_type": "markdown",
   "metadata": {},
   "source": [
    "# Testando algoritmos"
   ]
  },
  {
   "cell_type": "code",
   "execution_count": 23,
   "metadata": {},
   "outputs": [],
   "source": [
    "# Algoritmos\n",
    "# importando bibliotecas\n",
    "from sklearn.metrics import mean_squared_error\n",
    "from sklearn.tree import DecisionTreeClassifier\n",
    "from sklearn.ensemble import ExtraTreesClassifier\n",
    "from sklearn.neighbors import KNeighborsClassifier\n",
    "from sklearn.ensemble import GradientBoostingClassifier\n",
    "from sklearn.ensemble import AdaBoostClassifier\n",
    "from sklearn.multioutput import MultiOutputClassifier\n",
    "from sklearn.ensemble import RandomForestClassifier\n",
    "from sklearn.svm import SVR, SVC\n",
    "from sklearn.neural_network import MLPClassifier\n",
    "from sklearn.multiclass import OneVsRestClassifier  # permite utilizar algoritmos com SVC em Labelbinariser"
   ]
  },
  {
   "cell_type": "code",
   "execution_count": 24,
   "metadata": {},
   "outputs": [],
   "source": [
    "# plota grafico de dispersao e linha de tendencia para o modelo\n",
    "def plot_show(X_test,y_test,previsao,title,name):\n",
    "    #plt.figure(figsize=(5,5))\n",
    "    z= np.polyfit(y_test.flatten(),previsao.flatten(),1)\n",
    "    p=np.poly1d(z)\n",
    "    plt.scatter(y_test,previsao,color='k',marker='+')\n",
    "    plt.title(title)\n",
    "    plt.plot(y_test,p(y_test),'r--')\n",
    "    plt.show()\n",
    "    print('RMSE for ',name,' is ',y_mse[name])\n",
    "    print('R**2 ',name,' is ',y_r2[name])"
   ]
  },
  {
   "cell_type": "code",
   "execution_count": 25,
   "metadata": {},
   "outputs": [],
   "source": [
    "# plota grafico de dispersao e linha de tendencia para o modelo\n",
    "def plot_l(y_test,previsao):\n",
    "    #plt.figure(figsize=(5,5))\n",
    "    z= np.polyfit(y_test.flatten(),previsao.flatten(),1)\n",
    "    p=np.poly1d(z)\n",
    "    return p"
   ]
  },
  {
   "cell_type": "code",
   "execution_count": 27,
   "metadata": {},
   "outputs": [],
   "source": [
    "# cria dicionario com os algorimos utilizados \n",
    "ESTIMATORS = {    \n",
    "    \"K-nn\": KNeighborsClassifier(),                        \n",
    "    \"RandomForestRegressor\": RandomForestClassifier(max_depth=50, random_state=2),\n",
    "    \"Decision Tree Regressor\":DecisionTreeClassifier(max_depth=5),\n",
    "    \"SVC\":OneVsRestClassifier(estimator=SVC()),\n",
    "    \"NeuralNetwork\": MLPClassifier(solver='adam', random_state=1,\n",
    "                                  hidden_layer_sizes=(4,4,4,2)),\n",
    "    \"MultiO/P GBR\" :OneVsRestClassifier(estimator=GradientBoostingClassifier(n_estimators=5)),\n",
    "    \"MultiO/P AdaB\" :OneVsRestClassifier(estimator=AdaBoostClassifier(n_estimators=5))\n",
    "}\n"
   ]
  },
  {
   "cell_type": "code",
   "execution_count": 28,
   "metadata": {},
   "outputs": [],
   "source": [
    "estimator = OneVsRestClassifier(estimator=GradientBoostingClassifier(n_estimators=5))\n"
   ]
  },
  {
   "cell_type": "code",
   "execution_count": 29,
   "metadata": {},
   "outputs": [
    {
     "data": {
      "text/plain": [
       "OneVsRestClassifier(estimator=GradientBoostingClassifier(criterion='friedman_mse', init=None,\n",
       "              learning_rate=0.1, loss='deviance', max_depth=3,\n",
       "              max_features=None, max_leaf_nodes=None,\n",
       "              min_impurity_decrease=0.0, min_impurity_split=None,\n",
       "              min_samples_leaf=1, min_sampl...      subsample=1.0, tol=0.0001, validation_fraction=0.1,\n",
       "              verbose=0, warm_start=False),\n",
       "          n_jobs=None)"
      ]
     },
     "execution_count": 29,
     "metadata": {},
     "output_type": "execute_result"
    }
   ],
   "source": [
    "estimator.fit(X_train,y_train)"
   ]
  },
  {
   "cell_type": "code",
   "execution_count": 30,
   "metadata": {},
   "outputs": [
    {
     "data": {
      "text/plain": [
       "0.5600728155339806"
      ]
     },
     "execution_count": 30,
     "metadata": {},
     "output_type": "execute_result"
    }
   ],
   "source": [
    "estimator.score(X_test,y_test)"
   ]
  },
  {
   "cell_type": "markdown",
   "metadata": {},
   "source": [
    "# Ensaios "
   ]
  },
  {
   "cell_type": "code",
   "execution_count": 123,
   "metadata": {},
   "outputs": [],
   "source": [
    "# x\n",
    "x =df.iloc[:,11:14]"
   ]
  },
  {
   "cell_type": "code",
   "execution_count": 121,
   "metadata": {},
   "outputs": [
    {
     "data": {
      "text/html": [
       "<div>\n",
       "<style scoped>\n",
       "    .dataframe tbody tr th:only-of-type {\n",
       "        vertical-align: middle;\n",
       "    }\n",
       "\n",
       "    .dataframe tbody tr th {\n",
       "        vertical-align: top;\n",
       "    }\n",
       "\n",
       "    .dataframe thead th {\n",
       "        text-align: right;\n",
       "    }\n",
       "</style>\n",
       "<table border=\"1\" class=\"dataframe\">\n",
       "  <thead>\n",
       "    <tr style=\"text-align: right;\">\n",
       "      <th></th>\n",
       "      <th>B2.1</th>\n",
       "      <th>B3.1</th>\n",
       "      <th>B4.1</th>\n",
       "    </tr>\n",
       "  </thead>\n",
       "  <tbody>\n",
       "    <tr>\n",
       "      <th>0</th>\n",
       "      <td>0.391512</td>\n",
       "      <td>0.364547</td>\n",
       "      <td>0.337578</td>\n",
       "    </tr>\n",
       "    <tr>\n",
       "      <th>1</th>\n",
       "      <td>0.392656</td>\n",
       "      <td>0.372402</td>\n",
       "      <td>0.335987</td>\n",
       "    </tr>\n",
       "    <tr>\n",
       "      <th>2</th>\n",
       "      <td>0.370778</td>\n",
       "      <td>0.321395</td>\n",
       "      <td>0.294193</td>\n",
       "    </tr>\n",
       "    <tr>\n",
       "      <th>3</th>\n",
       "      <td>0.389603</td>\n",
       "      <td>0.349450</td>\n",
       "      <td>0.324734</td>\n",
       "    </tr>\n",
       "    <tr>\n",
       "      <th>4</th>\n",
       "      <td>0.393122</td>\n",
       "      <td>0.370530</td>\n",
       "      <td>0.334592</td>\n",
       "    </tr>\n",
       "  </tbody>\n",
       "</table>\n",
       "</div>"
      ],
      "text/plain": [
       "       B2.1      B3.1      B4.1\n",
       "0  0.391512  0.364547  0.337578\n",
       "1  0.392656  0.372402  0.335987\n",
       "2  0.370778  0.321395  0.294193\n",
       "3  0.389603  0.349450  0.324734\n",
       "4  0.393122  0.370530  0.334592"
      ]
     },
     "execution_count": 121,
     "metadata": {},
     "output_type": "execute_result"
    }
   ],
   "source": [
    "df.iloc[:,11:14].head()"
   ]
  },
  {
   "cell_type": "code",
   "execution_count": 122,
   "metadata": {},
   "outputs": [],
   "source": [
    "# x\n",
    "x =df[['B1','B2','B6']]"
   ]
  },
  {
   "cell_type": "code",
   "execution_count": 233,
   "metadata": {},
   "outputs": [],
   "source": [
    "Stand = StandardScaler()\n",
    "x = Stand.fit(x).transform(x)"
   ]
  },
  {
   "cell_type": "code",
   "execution_count": 124,
   "metadata": {},
   "outputs": [],
   "source": [
    "# separando \n",
    "X_train, X_test, y_train, y_test = train_test_split(x, y, test_size = 0.33)"
   ]
  },
  {
   "cell_type": "code",
   "execution_count": 125,
   "metadata": {},
   "outputs": [],
   "source": [
    "# cria dicionario com os algorimos utilizados \n",
    "ESTIMATORS = {    \n",
    "    \"K-nn\": KNeighborsClassifier(),                        \n",
    "    \"RandomForestRegressor\": RandomForestClassifier(max_depth=50, random_state=2),\n",
    "    \"Decision Tree Regressor\":DecisionTreeClassifier(max_depth=5),\n",
    "    \"SVC\":OneVsRestClassifier(estimator=SVC()),\n",
    "    \"NeuralNetwork\": MLPClassifier(solver='adam', random_state=1,\n",
    "                                  hidden_layer_sizes=(4,4,4,2)),\n",
    "    \"MultiO/P GBR\" :OneVsRestClassifier(estimator=GradientBoostingClassifier(n_estimators=5)),\n",
    "    \"MultiO/P AdaB\" :OneVsRestClassifier(estimator=AdaBoostClassifier(n_estimators=5))\n",
    "}\n"
   ]
  },
  {
   "cell_type": "code",
   "execution_count": 275,
   "metadata": {
    "scrolled": true
   },
   "outputs": [
    {
     "name": "stderr",
     "output_type": "stream",
     "text": [
      "/home/pensario/.local/lib/python3.6/site-packages/sklearn/svm/base.py:196: FutureWarning: The default value of gamma will change from 'auto' to 'scale' in version 0.22 to account better for unscaled features. Set gamma explicitly to 'auto' or 'scale' to avoid this warning.\n",
      "  \"avoid this warning.\", FutureWarning)\n",
      "/home/pensario/.local/lib/python3.6/site-packages/sklearn/svm/base.py:196: FutureWarning: The default value of gamma will change from 'auto' to 'scale' in version 0.22 to account better for unscaled features. Set gamma explicitly to 'auto' or 'scale' to avoid this warning.\n",
      "  \"avoid this warning.\", FutureWarning)\n",
      "/home/pensario/.local/lib/python3.6/site-packages/sklearn/svm/base.py:196: FutureWarning: The default value of gamma will change from 'auto' to 'scale' in version 0.22 to account better for unscaled features. Set gamma explicitly to 'auto' or 'scale' to avoid this warning.\n",
      "  \"avoid this warning.\", FutureWarning)\n",
      "/home/pensario/.local/lib/python3.6/site-packages/sklearn/svm/base.py:196: FutureWarning: The default value of gamma will change from 'auto' to 'scale' in version 0.22 to account better for unscaled features. Set gamma explicitly to 'auto' or 'scale' to avoid this warning.\n",
      "  \"avoid this warning.\", FutureWarning)\n",
      "/home/pensario/.local/lib/python3.6/site-packages/sklearn/svm/base.py:196: FutureWarning: The default value of gamma will change from 'auto' to 'scale' in version 0.22 to account better for unscaled features. Set gamma explicitly to 'auto' or 'scale' to avoid this warning.\n",
      "  \"avoid this warning.\", FutureWarning)\n",
      "/home/pensario/.local/lib/python3.6/site-packages/sklearn/svm/base.py:196: FutureWarning: The default value of gamma will change from 'auto' to 'scale' in version 0.22 to account better for unscaled features. Set gamma explicitly to 'auto' or 'scale' to avoid this warning.\n",
      "  \"avoid this warning.\", FutureWarning)\n",
      "/home/pensario/.local/lib/python3.6/site-packages/sklearn/svm/base.py:196: FutureWarning: The default value of gamma will change from 'auto' to 'scale' in version 0.22 to account better for unscaled features. Set gamma explicitly to 'auto' or 'scale' to avoid this warning.\n",
      "  \"avoid this warning.\", FutureWarning)\n",
      "/home/pensario/.local/lib/python3.6/site-packages/sklearn/svm/base.py:196: FutureWarning: The default value of gamma will change from 'auto' to 'scale' in version 0.22 to account better for unscaled features. Set gamma explicitly to 'auto' or 'scale' to avoid this warning.\n",
      "  \"avoid this warning.\", FutureWarning)\n",
      "/home/pensario/.local/lib/python3.6/site-packages/sklearn/svm/base.py:196: FutureWarning: The default value of gamma will change from 'auto' to 'scale' in version 0.22 to account better for unscaled features. Set gamma explicitly to 'auto' or 'scale' to avoid this warning.\n",
      "  \"avoid this warning.\", FutureWarning)\n",
      "/home/pensario/.local/lib/python3.6/site-packages/sklearn/neural_network/multilayer_perceptron.py:562: ConvergenceWarning: Stochastic Optimizer: Maximum iterations (200) reached and the optimization hasn't converged yet.\n",
      "  % self.max_iter, ConvergenceWarning)\n"
     ]
    }
   ],
   "source": [
    "# aplicando os algortimos\n",
    "y_test_predict = dict()\n",
    "y_mse = dict()\n",
    "y_r2 = dict()\n",
    "#fig = plt.figure(figsize=(15,10))\n",
    "i=1\n",
    "for name, estimator in ESTIMATORS.items():    \n",
    "    estimator.fit(X_train, y_train)                    # fit() with instantiated object\n",
    "    y_test_predict[name] = previsao = estimator.predict(X_test)   # Make predictions and save it in dict under key: name\n",
    "    y_mse[name] = mean_squared_error(y_test, estimator.predict(X_test))\n",
    "    y_r2[name] = estimator.score(X_test,y_test)\n",
    "    \n",
    "    #grafico\n",
    "#     z= np.polyfit(y_test.flatten(),previsao.flatten(),1)\n",
    "#     p=np.poly1d(z)\n",
    "#     ax=fig.add_subplot(2,3,i)\n",
    "#     ax.scatter(y_test,previsao,color='k',marker='+')\n",
    "#     ax.set_xlabel('Observado')\n",
    "#     ax.set_ylabel('Estimado')\n",
    "#     ax.set_title(name)\n",
    "#     ax.plot(y_test,p(y_test),'r--')\n",
    "#     i+=1\n",
    "\n",
    "# plt.tight_layout()\n",
    "# #plt.savefig('../../../Qualificacao/MML_evaporacao_INMET.png')\n",
    "# plt.show()\n",
    "\n",
    "    \n",
    "\n",
    "R=pd.DataFrame({'mse':list(y_mse.values()),    # Padronizando o os dois\n",
    "                 'R2':list(y_r2.values())}, \n",
    "                index=list(y_r2.keys()))"
   ]
  },
  {
   "cell_type": "code",
   "execution_count": 276,
   "metadata": {
    "scrolled": false
   },
   "outputs": [
    {
     "data": {
      "text/html": [
       "<div>\n",
       "<style scoped>\n",
       "    .dataframe tbody tr th:only-of-type {\n",
       "        vertical-align: middle;\n",
       "    }\n",
       "\n",
       "    .dataframe tbody tr th {\n",
       "        vertical-align: top;\n",
       "    }\n",
       "\n",
       "    .dataframe thead th {\n",
       "        text-align: right;\n",
       "    }\n",
       "</style>\n",
       "<table border=\"1\" class=\"dataframe\">\n",
       "  <thead>\n",
       "    <tr style=\"text-align: right;\">\n",
       "      <th></th>\n",
       "      <th>mse</th>\n",
       "      <th>R2</th>\n",
       "    </tr>\n",
       "  </thead>\n",
       "  <tbody>\n",
       "    <tr>\n",
       "      <th>K-nn</th>\n",
       "      <td>0.046049</td>\n",
       "      <td>0.756675</td>\n",
       "    </tr>\n",
       "    <tr>\n",
       "      <th>RandomForestRegressor</th>\n",
       "      <td>0.043959</td>\n",
       "      <td>0.739684</td>\n",
       "    </tr>\n",
       "    <tr>\n",
       "      <th>Decision Tree Regressor</th>\n",
       "      <td>0.046251</td>\n",
       "      <td>0.787015</td>\n",
       "    </tr>\n",
       "    <tr>\n",
       "      <th>SVC</th>\n",
       "      <td>0.041936</td>\n",
       "      <td>0.738471</td>\n",
       "    </tr>\n",
       "    <tr>\n",
       "      <th>NeuralNetwork</th>\n",
       "      <td>0.050162</td>\n",
       "      <td>0.669296</td>\n",
       "    </tr>\n",
       "    <tr>\n",
       "      <th>MultiO/P GBR</th>\n",
       "      <td>0.052656</td>\n",
       "      <td>0.569782</td>\n",
       "    </tr>\n",
       "    <tr>\n",
       "      <th>MultiO/P AdaB</th>\n",
       "      <td>0.043959</td>\n",
       "      <td>0.725728</td>\n",
       "    </tr>\n",
       "  </tbody>\n",
       "</table>\n",
       "</div>"
      ],
      "text/plain": [
       "                              mse        R2\n",
       "K-nn                     0.046049  0.756675\n",
       "RandomForestRegressor    0.043959  0.739684\n",
       "Decision Tree Regressor  0.046251  0.787015\n",
       "SVC                      0.041936  0.738471\n",
       "NeuralNetwork            0.050162  0.669296\n",
       "MultiO/P GBR             0.052656  0.569782\n",
       "MultiO/P AdaB            0.043959  0.725728"
      ]
     },
     "execution_count": 276,
     "metadata": {},
     "output_type": "execute_result"
    }
   ],
   "source": [
    "R"
   ]
  },
  {
   "cell_type": "markdown",
   "metadata": {},
   "source": [
    "# Considerando o NDVI e o EVI"
   ]
  },
  {
   "cell_type": "code",
   "execution_count": 265,
   "metadata": {},
   "outputs": [
    {
     "data": {
      "text/html": [
       "<div>\n",
       "<style scoped>\n",
       "    .dataframe tbody tr th:only-of-type {\n",
       "        vertical-align: middle;\n",
       "    }\n",
       "\n",
       "    .dataframe tbody tr th {\n",
       "        vertical-align: top;\n",
       "    }\n",
       "\n",
       "    .dataframe thead th {\n",
       "        text-align: right;\n",
       "    }\n",
       "</style>\n",
       "<table border=\"1\" class=\"dataframe\">\n",
       "  <thead>\n",
       "    <tr style=\"text-align: right;\">\n",
       "      <th></th>\n",
       "      <th>id</th>\n",
       "      <th>epac</th>\n",
       "      <th>USO_2015</th>\n",
       "      <th>B1</th>\n",
       "      <th>B2</th>\n",
       "      <th>B3</th>\n",
       "      <th>B4</th>\n",
       "      <th>B5</th>\n",
       "      <th>B6</th>\n",
       "      <th>B7</th>\n",
       "      <th>B1.1</th>\n",
       "      <th>B2.1</th>\n",
       "      <th>B3.1</th>\n",
       "      <th>B4.1</th>\n",
       "      <th>B5.1</th>\n",
       "      <th>B6.1</th>\n",
       "      <th>B7.1</th>\n",
       "    </tr>\n",
       "  </thead>\n",
       "  <tbody>\n",
       "    <tr>\n",
       "      <th>0</th>\n",
       "      <td>887</td>\n",
       "      <td>a</td>\n",
       "      <td>ROCHA</td>\n",
       "      <td>8437.818438</td>\n",
       "      <td>7719.032383</td>\n",
       "      <td>7173.540135</td>\n",
       "      <td>6628.093034</td>\n",
       "      <td>11887.028173</td>\n",
       "      <td>10047.598934</td>\n",
       "      <td>7666.984792</td>\n",
       "      <td>0.427021</td>\n",
       "      <td>0.391512</td>\n",
       "      <td>0.364547</td>\n",
       "      <td>0.337578</td>\n",
       "      <td>0.597521</td>\n",
       "      <td>0.325896</td>\n",
       "      <td>0.251033</td>\n",
       "    </tr>\n",
       "    <tr>\n",
       "      <th>1</th>\n",
       "      <td>1174</td>\n",
       "      <td>a</td>\n",
       "      <td>ROCHA</td>\n",
       "      <td>8465.084335</td>\n",
       "      <td>7742.233643</td>\n",
       "      <td>7332.444501</td>\n",
       "      <td>6595.879132</td>\n",
       "      <td>15583.545194</td>\n",
       "      <td>10903.904403</td>\n",
       "      <td>7845.405297</td>\n",
       "      <td>0.428366</td>\n",
       "      <td>0.392656</td>\n",
       "      <td>0.372402</td>\n",
       "      <td>0.335987</td>\n",
       "      <td>0.780239</td>\n",
       "      <td>0.352816</td>\n",
       "      <td>0.256646</td>\n",
       "    </tr>\n",
       "    <tr>\n",
       "      <th>2</th>\n",
       "      <td>4272</td>\n",
       "      <td>a</td>\n",
       "      <td>ROCHA</td>\n",
       "      <td>8101.581027</td>\n",
       "      <td>7299.567316</td>\n",
       "      <td>6300.519469</td>\n",
       "      <td>5750.398151</td>\n",
       "      <td>5947.106534</td>\n",
       "      <td>5215.316921</td>\n",
       "      <td>5081.238643</td>\n",
       "      <td>0.410403</td>\n",
       "      <td>0.370778</td>\n",
       "      <td>0.321395</td>\n",
       "      <td>0.294193</td>\n",
       "      <td>0.303915</td>\n",
       "      <td>0.173958</td>\n",
       "      <td>0.169733</td>\n",
       "    </tr>\n",
       "    <tr>\n",
       "      <th>3</th>\n",
       "      <td>4884</td>\n",
       "      <td>a</td>\n",
       "      <td>ROCHA</td>\n",
       "      <td>8436.934048</td>\n",
       "      <td>7680.410630</td>\n",
       "      <td>6868.116697</td>\n",
       "      <td>6368.261542</td>\n",
       "      <td>9259.926548</td>\n",
       "      <td>8044.223838</td>\n",
       "      <td>6921.642563</td>\n",
       "      <td>0.426977</td>\n",
       "      <td>0.389603</td>\n",
       "      <td>0.349450</td>\n",
       "      <td>0.324734</td>\n",
       "      <td>0.467661</td>\n",
       "      <td>0.262901</td>\n",
       "      <td>0.227598</td>\n",
       "    </tr>\n",
       "    <tr>\n",
       "      <th>4</th>\n",
       "      <td>4915</td>\n",
       "      <td>a</td>\n",
       "      <td>ROCHA</td>\n",
       "      <td>8480.928720</td>\n",
       "      <td>7751.628078</td>\n",
       "      <td>7294.537935</td>\n",
       "      <td>6567.613085</td>\n",
       "      <td>16023.725229</td>\n",
       "      <td>10505.149220</td>\n",
       "      <td>7272.544194</td>\n",
       "      <td>0.429155</td>\n",
       "      <td>0.393122</td>\n",
       "      <td>0.370530</td>\n",
       "      <td>0.334592</td>\n",
       "      <td>0.801994</td>\n",
       "      <td>0.340278</td>\n",
       "      <td>0.238630</td>\n",
       "    </tr>\n",
       "  </tbody>\n",
       "</table>\n",
       "</div>"
      ],
      "text/plain": [
       "     id epac USO_2015           B1           B2           B3           B4  \\\n",
       "0   887    a    ROCHA  8437.818438  7719.032383  7173.540135  6628.093034   \n",
       "1  1174    a    ROCHA  8465.084335  7742.233643  7332.444501  6595.879132   \n",
       "2  4272    a    ROCHA  8101.581027  7299.567316  6300.519469  5750.398151   \n",
       "3  4884    a    ROCHA  8436.934048  7680.410630  6868.116697  6368.261542   \n",
       "4  4915    a    ROCHA  8480.928720  7751.628078  7294.537935  6567.613085   \n",
       "\n",
       "             B5            B6           B7      B1.1      B2.1      B3.1  \\\n",
       "0  11887.028173  10047.598934  7666.984792  0.427021  0.391512  0.364547   \n",
       "1  15583.545194  10903.904403  7845.405297  0.428366  0.392656  0.372402   \n",
       "2   5947.106534   5215.316921  5081.238643  0.410403  0.370778  0.321395   \n",
       "3   9259.926548   8044.223838  6921.642563  0.426977  0.389603  0.349450   \n",
       "4  16023.725229  10505.149220  7272.544194  0.429155  0.393122  0.370530   \n",
       "\n",
       "       B4.1      B5.1      B6.1      B7.1  \n",
       "0  0.337578  0.597521  0.325896  0.251033  \n",
       "1  0.335987  0.780239  0.352816  0.256646  \n",
       "2  0.294193  0.303915  0.173958  0.169733  \n",
       "3  0.324734  0.467661  0.262901  0.227598  \n",
       "4  0.334592  0.801994  0.340278  0.238630  "
      ]
     },
     "execution_count": 265,
     "metadata": {},
     "output_type": "execute_result"
    }
   ],
   "source": [
    "df.head()"
   ]
  },
  {
   "cell_type": "code",
   "execution_count": 162,
   "metadata": {},
   "outputs": [],
   "source": [
    "df=df.drop(['xcoord','ycoord','xcoord_1','ycoord_1'],axis=1)"
   ]
  },
  {
   "cell_type": "code",
   "execution_count": 266,
   "metadata": {},
   "outputs": [],
   "source": [
    "def ndvi(df):\n",
    "    return ((df['B5']-df['B4'])/(df['B5']+df['B4']))\n",
    "\n",
    "def evi(df):\n",
    "     return (2.5*(df['B5']-df['B4'])/(df['B5']+6*df['B4']-7.5*df['B2']+1))"
   ]
  },
  {
   "cell_type": "code",
   "execution_count": 267,
   "metadata": {},
   "outputs": [],
   "source": [
    "df['NDVI']=df.apply(ndvi, axis=1)\n",
    "df['EVI']=df.apply(evi, axis=1)"
   ]
  },
  {
   "cell_type": "code",
   "execution_count": null,
   "metadata": {},
   "outputs": [],
   "source": []
  },
  {
   "cell_type": "code",
   "execution_count": 268,
   "metadata": {
    "scrolled": false
   },
   "outputs": [
    {
     "data": {
      "text/html": [
       "<div>\n",
       "<style scoped>\n",
       "    .dataframe tbody tr th:only-of-type {\n",
       "        vertical-align: middle;\n",
       "    }\n",
       "\n",
       "    .dataframe tbody tr th {\n",
       "        vertical-align: top;\n",
       "    }\n",
       "\n",
       "    .dataframe thead th {\n",
       "        text-align: right;\n",
       "    }\n",
       "</style>\n",
       "<table border=\"1\" class=\"dataframe\">\n",
       "  <thead>\n",
       "    <tr style=\"text-align: right;\">\n",
       "      <th></th>\n",
       "      <th>B1</th>\n",
       "      <th>B2</th>\n",
       "      <th>B3</th>\n",
       "      <th>B4</th>\n",
       "      <th>B5</th>\n",
       "      <th>B6</th>\n",
       "    </tr>\n",
       "  </thead>\n",
       "  <tbody>\n",
       "    <tr>\n",
       "      <th>0</th>\n",
       "      <td>8437.818438</td>\n",
       "      <td>7719.032383</td>\n",
       "      <td>7173.540135</td>\n",
       "      <td>6628.093034</td>\n",
       "      <td>11887.028173</td>\n",
       "      <td>10047.598934</td>\n",
       "    </tr>\n",
       "    <tr>\n",
       "      <th>1</th>\n",
       "      <td>8465.084335</td>\n",
       "      <td>7742.233643</td>\n",
       "      <td>7332.444501</td>\n",
       "      <td>6595.879132</td>\n",
       "      <td>15583.545194</td>\n",
       "      <td>10903.904403</td>\n",
       "    </tr>\n",
       "    <tr>\n",
       "      <th>2</th>\n",
       "      <td>8101.581027</td>\n",
       "      <td>7299.567316</td>\n",
       "      <td>6300.519469</td>\n",
       "      <td>5750.398151</td>\n",
       "      <td>5947.106534</td>\n",
       "      <td>5215.316921</td>\n",
       "    </tr>\n",
       "    <tr>\n",
       "      <th>3</th>\n",
       "      <td>8436.934048</td>\n",
       "      <td>7680.410630</td>\n",
       "      <td>6868.116697</td>\n",
       "      <td>6368.261542</td>\n",
       "      <td>9259.926548</td>\n",
       "      <td>8044.223838</td>\n",
       "    </tr>\n",
       "    <tr>\n",
       "      <th>4</th>\n",
       "      <td>8480.928720</td>\n",
       "      <td>7751.628078</td>\n",
       "      <td>7294.537935</td>\n",
       "      <td>6567.613085</td>\n",
       "      <td>16023.725229</td>\n",
       "      <td>10505.149220</td>\n",
       "    </tr>\n",
       "  </tbody>\n",
       "</table>\n",
       "</div>"
      ],
      "text/plain": [
       "            B1           B2           B3           B4            B5  \\\n",
       "0  8437.818438  7719.032383  7173.540135  6628.093034  11887.028173   \n",
       "1  8465.084335  7742.233643  7332.444501  6595.879132  15583.545194   \n",
       "2  8101.581027  7299.567316  6300.519469  5750.398151   5947.106534   \n",
       "3  8436.934048  7680.410630  6868.116697  6368.261542   9259.926548   \n",
       "4  8480.928720  7751.628078  7294.537935  6567.613085  16023.725229   \n",
       "\n",
       "             B6  \n",
       "0  10047.598934  \n",
       "1  10903.904403  \n",
       "2   5215.316921  \n",
       "3   8044.223838  \n",
       "4  10505.149220  "
      ]
     },
     "execution_count": 268,
     "metadata": {},
     "output_type": "execute_result"
    }
   ],
   "source": [
    "#df[['B1','B2','B3','B4','B5','B6']].head()"
   ]
  },
  {
   "cell_type": "code",
   "execution_count": 8,
   "metadata": {},
   "outputs": [],
   "source": [
    "# x\n",
    "x =df[['B1','B2','B3','B4','B5','B6']]#df.iloc[:,7:10]"
   ]
  },
  {
   "cell_type": "code",
   "execution_count": 364,
   "metadata": {},
   "outputs": [],
   "source": [
    "Stand = StandardScaler()\n",
    "x = Stand.fit(x).transform(x)"
   ]
  },
  {
   "cell_type": "code",
   "execution_count": 365,
   "metadata": {},
   "outputs": [],
   "source": [
    "# separando \n",
    "X_train, X_test, y_train, y_test = train_test_split(x, y, test_size = 0.33)"
   ]
  },
  {
   "cell_type": "code",
   "execution_count": 366,
   "metadata": {},
   "outputs": [],
   "source": [
    "# cria dicionario com os algorimos utilizados \n",
    "ESTIMATORS = {    \n",
    "    \"K-nn\": KNeighborsClassifier(),                        \n",
    "    \"RandomForestRegressor\": RandomForestClassifier(n_estimators=150,max_depth=3,\n",
    "                                                    random_state=5),\n",
    "    \"Decision Tree Regressor\":DecisionTreeClassifier(max_depth=5),\n",
    "    \"SVC\":OneVsRestClassifier(estimator=SVC(kernel='rbf')),\n",
    "    \"NeuralNetwork\": MLPClassifier(solver='adam', random_state=1,\n",
    "                                  hidden_layer_sizes=(4,4,4,2)),\n",
    "    \"MultiO/P GBR\" :OneVsRestClassifier(estimator=GradientBoostingClassifier(n_estimators=5)),\n",
    "    \"MultiO/P AdaB\" :OneVsRestClassifier(estimator=AdaBoostClassifier(n_estimators=11))\n",
    "}\n"
   ]
  },
  {
   "cell_type": "code",
   "execution_count": 367,
   "metadata": {
    "scrolled": true
   },
   "outputs": [
    {
     "name": "stderr",
     "output_type": "stream",
     "text": [
      "/home/pensario/.local/lib/python3.6/site-packages/sklearn/svm/base.py:196: FutureWarning: The default value of gamma will change from 'auto' to 'scale' in version 0.22 to account better for unscaled features. Set gamma explicitly to 'auto' or 'scale' to avoid this warning.\n",
      "  \"avoid this warning.\", FutureWarning)\n",
      "/home/pensario/.local/lib/python3.6/site-packages/sklearn/svm/base.py:196: FutureWarning: The default value of gamma will change from 'auto' to 'scale' in version 0.22 to account better for unscaled features. Set gamma explicitly to 'auto' or 'scale' to avoid this warning.\n",
      "  \"avoid this warning.\", FutureWarning)\n",
      "/home/pensario/.local/lib/python3.6/site-packages/sklearn/svm/base.py:196: FutureWarning: The default value of gamma will change from 'auto' to 'scale' in version 0.22 to account better for unscaled features. Set gamma explicitly to 'auto' or 'scale' to avoid this warning.\n",
      "  \"avoid this warning.\", FutureWarning)\n",
      "/home/pensario/.local/lib/python3.6/site-packages/sklearn/svm/base.py:196: FutureWarning: The default value of gamma will change from 'auto' to 'scale' in version 0.22 to account better for unscaled features. Set gamma explicitly to 'auto' or 'scale' to avoid this warning.\n",
      "  \"avoid this warning.\", FutureWarning)\n",
      "/home/pensario/.local/lib/python3.6/site-packages/sklearn/svm/base.py:196: FutureWarning: The default value of gamma will change from 'auto' to 'scale' in version 0.22 to account better for unscaled features. Set gamma explicitly to 'auto' or 'scale' to avoid this warning.\n",
      "  \"avoid this warning.\", FutureWarning)\n",
      "/home/pensario/.local/lib/python3.6/site-packages/sklearn/svm/base.py:196: FutureWarning: The default value of gamma will change from 'auto' to 'scale' in version 0.22 to account better for unscaled features. Set gamma explicitly to 'auto' or 'scale' to avoid this warning.\n",
      "  \"avoid this warning.\", FutureWarning)\n",
      "/home/pensario/.local/lib/python3.6/site-packages/sklearn/svm/base.py:196: FutureWarning: The default value of gamma will change from 'auto' to 'scale' in version 0.22 to account better for unscaled features. Set gamma explicitly to 'auto' or 'scale' to avoid this warning.\n",
      "  \"avoid this warning.\", FutureWarning)\n",
      "/home/pensario/.local/lib/python3.6/site-packages/sklearn/svm/base.py:196: FutureWarning: The default value of gamma will change from 'auto' to 'scale' in version 0.22 to account better for unscaled features. Set gamma explicitly to 'auto' or 'scale' to avoid this warning.\n",
      "  \"avoid this warning.\", FutureWarning)\n",
      "/home/pensario/.local/lib/python3.6/site-packages/sklearn/svm/base.py:196: FutureWarning: The default value of gamma will change from 'auto' to 'scale' in version 0.22 to account better for unscaled features. Set gamma explicitly to 'auto' or 'scale' to avoid this warning.\n",
      "  \"avoid this warning.\", FutureWarning)\n",
      "/home/pensario/.local/lib/python3.6/site-packages/sklearn/neural_network/multilayer_perceptron.py:562: ConvergenceWarning: Stochastic Optimizer: Maximum iterations (200) reached and the optimization hasn't converged yet.\n",
      "  % self.max_iter, ConvergenceWarning)\n"
     ]
    }
   ],
   "source": [
    "### CALCULA O KAPPA E O G\n",
    "\n",
    "# aplicando os algortimos\n",
    "y_test_predict = dict()\n",
    "K = dict()\n",
    "G = dict()\n",
    "#fig = plt.figure(figsize=(15,10))\n",
    "i=1\n",
    "for name, estimator in ESTIMATORS.items():    \n",
    "    estimator.fit(X_train, y_train)                    # fit() with instantiated object\n",
    "    y_test_predict[name] = previsao = estimator.predict(X_test)   # Make predictions and save it in dict under key: name\n",
    "    y_o = le.inverse_transform(y_test)\n",
    "    y_e = le.inverse_transform(previsao)\n",
    "    K[name] = cohen_kappa_score(y_o,y_e)\n",
    "    G[name] = accuracy_score(y_o,y_e)\n",
    "    \n",
    "    #grafico\n",
    "#     z= np.polyfit(y_test.flatten(),previsao.flatten(),1)\n",
    "#     p=np.poly1d(z)\n",
    "#     ax=fig.add_subplot(2,3,i)\n",
    "#     ax.scatter(y_test,previsao,color='k',marker='+')\n",
    "#     ax.set_xlabel('Observado')\n",
    "#     ax.set_ylabel('Estimado')\n",
    "#     ax.set_title(name)\n",
    "#     ax.plot(y_test,p(y_test),'r--')\n",
    "#     i+=1\n",
    "\n",
    "# plt.tight_layout()\n",
    "# #plt.savefig('../../../Qualificacao/MML_evaporacao_INMET.png')\n",
    "# plt.show()\n",
    "\n",
    "    \n",
    "\n",
    "Resultado=pd.DataFrame({'G':list(G.values()),    # Padronizando o os dois\n",
    "                 'K':list(K.values())}, \n",
    "                index=list(K.keys()))"
   ]
  },
  {
   "cell_type": "code",
   "execution_count": 362,
   "metadata": {
    "scrolled": true
   },
   "outputs": [
    {
     "data": {
      "text/html": [
       "<div>\n",
       "<style scoped>\n",
       "    .dataframe tbody tr th:only-of-type {\n",
       "        vertical-align: middle;\n",
       "    }\n",
       "\n",
       "    .dataframe tbody tr th {\n",
       "        vertical-align: top;\n",
       "    }\n",
       "\n",
       "    .dataframe thead th {\n",
       "        text-align: right;\n",
       "    }\n",
       "</style>\n",
       "<table border=\"1\" class=\"dataframe\">\n",
       "  <thead>\n",
       "    <tr style=\"text-align: right;\">\n",
       "      <th></th>\n",
       "      <th>G</th>\n",
       "      <th>K</th>\n",
       "    </tr>\n",
       "  </thead>\n",
       "  <tbody>\n",
       "    <tr>\n",
       "      <th>K-nn</th>\n",
       "      <td>0.734830</td>\n",
       "      <td>0.607979</td>\n",
       "    </tr>\n",
       "    <tr>\n",
       "      <th>RandomForestRegressor</th>\n",
       "      <td>0.726942</td>\n",
       "      <td>0.599434</td>\n",
       "    </tr>\n",
       "    <tr>\n",
       "      <th>Decision Tree Regressor</th>\n",
       "      <td>0.759102</td>\n",
       "      <td>0.638340</td>\n",
       "    </tr>\n",
       "    <tr>\n",
       "      <th>SVC</th>\n",
       "      <td>0.729369</td>\n",
       "      <td>0.608738</td>\n",
       "    </tr>\n",
       "    <tr>\n",
       "      <th>NeuralNetwork</th>\n",
       "      <td>0.626214</td>\n",
       "      <td>0.478730</td>\n",
       "    </tr>\n",
       "    <tr>\n",
       "      <th>MultiO/P GBR</th>\n",
       "      <td>0.568568</td>\n",
       "      <td>0.436323</td>\n",
       "    </tr>\n",
       "    <tr>\n",
       "      <th>MultiO/P AdaB</th>\n",
       "      <td>0.705097</td>\n",
       "      <td>0.582444</td>\n",
       "    </tr>\n",
       "  </tbody>\n",
       "</table>\n",
       "</div>"
      ],
      "text/plain": [
       "                                G         K\n",
       "K-nn                     0.734830  0.607979\n",
       "RandomForestRegressor    0.726942  0.599434\n",
       "Decision Tree Regressor  0.759102  0.638340\n",
       "SVC                      0.729369  0.608738\n",
       "NeuralNetwork            0.626214  0.478730\n",
       "MultiO/P GBR             0.568568  0.436323\n",
       "MultiO/P AdaB            0.705097  0.582444"
      ]
     },
     "execution_count": 362,
     "metadata": {},
     "output_type": "execute_result"
    }
   ],
   "source": [
    "Resultado"
   ]
  },
  {
   "cell_type": "markdown",
   "metadata": {},
   "source": [
    "# Ajustes finais em cada algoritmo "
   ]
  },
  {
   "cell_type": "code",
   "execution_count": 368,
   "metadata": {},
   "outputs": [],
   "source": [
    "# estimator = MLPClassifier(solver='adam', random_state=1,\n",
    "#                                   hidden_layer_sizes=(3,3,3,2))\n",
    "\n",
    "estimator =DecisionTreeClassifier(max_depth=5)"
   ]
  },
  {
   "cell_type": "code",
   "execution_count": 369,
   "metadata": {},
   "outputs": [
    {
     "name": "stdout",
     "output_type": "stream",
     "text": [
      "0.020527999999956137\n"
     ]
    }
   ],
   "source": [
    "import time\n",
    "t1=time.clock()\n",
    "\n",
    "estimator.fit(X_train,y_train)\n",
    "t2=time.clock()\n",
    "tf = t2-t1\n",
    "print(tf)"
   ]
  },
  {
   "cell_type": "code",
   "execution_count": 370,
   "metadata": {},
   "outputs": [
    {
     "data": {
      "text/plain": [
       "0.7263349514563107"
      ]
     },
     "execution_count": 370,
     "metadata": {},
     "output_type": "execute_result"
    }
   ],
   "source": [
    "estimator.score(X_test,y_test)"
   ]
  },
  {
   "cell_type": "code",
   "execution_count": 234,
   "metadata": {},
   "outputs": [],
   "source": [
    "from sklearn.metrics import accuracy_score\n",
    "from sklearn.metrics import cohen_kappa_score"
   ]
  },
  {
   "cell_type": "code",
   "execution_count": 372,
   "metadata": {},
   "outputs": [
    {
     "data": {
      "text/plain": [
       "0.6573908282918364"
      ]
     },
     "execution_count": 372,
     "metadata": {},
     "output_type": "execute_result"
    }
   ],
   "source": [
    "y_o = le.inverse_transform(y_train)\n",
    "y_e = le.inverse_transform(estimator.predict(X_train))\n",
    "cohen_kappa_score(y_o,y_e)"
   ]
  },
  {
   "cell_type": "code",
   "execution_count": 373,
   "metadata": {},
   "outputs": [
    {
     "data": {
      "text/plain": [
       "0.7663775052348191"
      ]
     },
     "execution_count": 373,
     "metadata": {},
     "output_type": "execute_result"
    }
   ],
   "source": [
    "accuracy_score(y_o,y_e)"
   ]
  },
  {
   "cell_type": "code",
   "execution_count": 237,
   "metadata": {},
   "outputs": [],
   "source": [
    "#matrix de confusao \n",
    "from sklearn.metrics import confusion_matrix\n"
   ]
  },
  {
   "cell_type": "code",
   "execution_count": 374,
   "metadata": {},
   "outputs": [
    {
     "data": {
      "text/plain": [
       "array([[   8,    0,    0,    2,    0,    4,    0,    0,    3],\n",
       "       [   1,    3,    0,    0,    0,    0,    0,    0,    0],\n",
       "       [  19,    0,    8,    3,    2,    0,    0,    0,    2],\n",
       "       [  93,    0,    0, 1345,    0,   68,    0,    0,   20],\n",
       "       [  12,    0,    1,    6,   38,    0,    0,    0,    1],\n",
       "       [ 152,    0,    1,  115,    0,  318,    0,    0,   79],\n",
       "       [   0,    0,    0,    1,    0,    0,    2,    0,    0],\n",
       "       [   3,    0,    0,    0,    0,    2,    0,    0,   24],\n",
       "       [ 106,    0,    0,   26,    0,   35,    0,    0,  840]])"
      ]
     },
     "execution_count": 374,
     "metadata": {},
     "output_type": "execute_result"
    }
   ],
   "source": [
    "confusion_matrix(y_o,y_e)"
   ]
  },
  {
   "cell_type": "code",
   "execution_count": 375,
   "metadata": {
    "scrolled": true
   },
   "outputs": [
    {
     "data": {
      "text/html": [
       "<div>\n",
       "<style scoped>\n",
       "    .dataframe tbody tr th:only-of-type {\n",
       "        vertical-align: middle;\n",
       "    }\n",
       "\n",
       "    .dataframe tbody tr th {\n",
       "        vertical-align: top;\n",
       "    }\n",
       "\n",
       "    .dataframe thead th {\n",
       "        text-align: right;\n",
       "    }\n",
       "</style>\n",
       "<table border=\"1\" class=\"dataframe\">\n",
       "  <thead>\n",
       "    <tr style=\"text-align: right;\">\n",
       "      <th>col_0</th>\n",
       "      <th>AGRICULTURA</th>\n",
       "      <th>AGUA</th>\n",
       "      <th>AUMIDAS</th>\n",
       "      <th>FLORESTA</th>\n",
       "      <th>MANGUE</th>\n",
       "      <th>PASTAGEM</th>\n",
       "      <th>ROCHA</th>\n",
       "      <th>URBANO</th>\n",
       "    </tr>\n",
       "    <tr>\n",
       "      <th>row_0</th>\n",
       "      <th></th>\n",
       "      <th></th>\n",
       "      <th></th>\n",
       "      <th></th>\n",
       "      <th></th>\n",
       "      <th></th>\n",
       "      <th></th>\n",
       "      <th></th>\n",
       "    </tr>\n",
       "  </thead>\n",
       "  <tbody>\n",
       "    <tr>\n",
       "      <th>AGRICULTURA</th>\n",
       "      <td>8</td>\n",
       "      <td>0</td>\n",
       "      <td>0</td>\n",
       "      <td>2</td>\n",
       "      <td>0</td>\n",
       "      <td>4</td>\n",
       "      <td>0</td>\n",
       "      <td>3</td>\n",
       "    </tr>\n",
       "    <tr>\n",
       "      <th>AGUA</th>\n",
       "      <td>1</td>\n",
       "      <td>3</td>\n",
       "      <td>0</td>\n",
       "      <td>0</td>\n",
       "      <td>0</td>\n",
       "      <td>0</td>\n",
       "      <td>0</td>\n",
       "      <td>0</td>\n",
       "    </tr>\n",
       "    <tr>\n",
       "      <th>AUMIDAS</th>\n",
       "      <td>19</td>\n",
       "      <td>0</td>\n",
       "      <td>8</td>\n",
       "      <td>3</td>\n",
       "      <td>2</td>\n",
       "      <td>0</td>\n",
       "      <td>0</td>\n",
       "      <td>2</td>\n",
       "    </tr>\n",
       "    <tr>\n",
       "      <th>FLORESTA</th>\n",
       "      <td>93</td>\n",
       "      <td>0</td>\n",
       "      <td>0</td>\n",
       "      <td>1345</td>\n",
       "      <td>0</td>\n",
       "      <td>68</td>\n",
       "      <td>0</td>\n",
       "      <td>20</td>\n",
       "    </tr>\n",
       "    <tr>\n",
       "      <th>MANGUE</th>\n",
       "      <td>12</td>\n",
       "      <td>0</td>\n",
       "      <td>1</td>\n",
       "      <td>6</td>\n",
       "      <td>38</td>\n",
       "      <td>0</td>\n",
       "      <td>0</td>\n",
       "      <td>1</td>\n",
       "    </tr>\n",
       "    <tr>\n",
       "      <th>PASTAGEM</th>\n",
       "      <td>152</td>\n",
       "      <td>0</td>\n",
       "      <td>1</td>\n",
       "      <td>115</td>\n",
       "      <td>0</td>\n",
       "      <td>318</td>\n",
       "      <td>0</td>\n",
       "      <td>79</td>\n",
       "    </tr>\n",
       "    <tr>\n",
       "      <th>ROCHA</th>\n",
       "      <td>0</td>\n",
       "      <td>0</td>\n",
       "      <td>0</td>\n",
       "      <td>1</td>\n",
       "      <td>0</td>\n",
       "      <td>0</td>\n",
       "      <td>2</td>\n",
       "      <td>0</td>\n",
       "    </tr>\n",
       "    <tr>\n",
       "      <th>SOLO</th>\n",
       "      <td>3</td>\n",
       "      <td>0</td>\n",
       "      <td>0</td>\n",
       "      <td>0</td>\n",
       "      <td>0</td>\n",
       "      <td>2</td>\n",
       "      <td>0</td>\n",
       "      <td>24</td>\n",
       "    </tr>\n",
       "    <tr>\n",
       "      <th>URBANO</th>\n",
       "      <td>106</td>\n",
       "      <td>0</td>\n",
       "      <td>0</td>\n",
       "      <td>26</td>\n",
       "      <td>0</td>\n",
       "      <td>35</td>\n",
       "      <td>0</td>\n",
       "      <td>840</td>\n",
       "    </tr>\n",
       "  </tbody>\n",
       "</table>\n",
       "</div>"
      ],
      "text/plain": [
       "col_0        AGRICULTURA  AGUA  AUMIDAS  FLORESTA  MANGUE  PASTAGEM  ROCHA  \\\n",
       "row_0                                                                        \n",
       "AGRICULTURA            8     0        0         2       0         4      0   \n",
       "AGUA                   1     3        0         0       0         0      0   \n",
       "AUMIDAS               19     0        8         3       2         0      0   \n",
       "FLORESTA              93     0        0      1345       0        68      0   \n",
       "MANGUE                12     0        1         6      38         0      0   \n",
       "PASTAGEM             152     0        1       115       0       318      0   \n",
       "ROCHA                  0     0        0         1       0         0      2   \n",
       "SOLO                   3     0        0         0       0         2      0   \n",
       "URBANO               106     0        0        26       0        35      0   \n",
       "\n",
       "col_0        URBANO  \n",
       "row_0                \n",
       "AGRICULTURA       3  \n",
       "AGUA              0  \n",
       "AUMIDAS           2  \n",
       "FLORESTA         20  \n",
       "MANGUE            1  \n",
       "PASTAGEM         79  \n",
       "ROCHA             0  \n",
       "SOLO             24  \n",
       "URBANO          840  "
      ]
     },
     "execution_count": 375,
     "metadata": {},
     "output_type": "execute_result"
    }
   ],
   "source": [
    "pd.crosstab(y_o,y_e)"
   ]
  },
  {
   "cell_type": "markdown",
   "metadata": {},
   "source": [
    "# Exportando os modelos "
   ]
  },
  {
   "cell_type": "code",
   "execution_count": 87,
   "metadata": {},
   "outputs": [],
   "source": [
    "from sklearn.externals import joblib"
   ]
  },
  {
   "cell_type": "code",
   "execution_count": 226,
   "metadata": {},
   "outputs": [
    {
     "data": {
      "text/plain": [
       "['../modelos/SVC.pk1']"
      ]
     },
     "execution_count": 226,
     "metadata": {},
     "output_type": "execute_result"
    }
   ],
   "source": [
    "# arvore de decisao, floresta de decisao e knn (2,3,6,NDVI : landsat 8)\n",
    "joblib.dump(estimator,'../modelos/SVC.pk1', compress=9)"
   ]
  },
  {
   "cell_type": "code",
   "execution_count": 14,
   "metadata": {},
   "outputs": [],
   "source": [
    "#importando \n",
    "clone = joblib.load('../modelos/randon_f.pk1')\n"
   ]
  },
  {
   "cell_type": "code",
   "execution_count": 19,
   "metadata": {},
   "outputs": [],
   "source": [
    "estimadores = clone.estimators_[5]"
   ]
  },
  {
   "cell_type": "code",
   "execution_count": 30,
   "metadata": {},
   "outputs": [],
   "source": [
    "#visualizando arvore\n",
    "from sklearn.tree import export_graphviz\n",
    "export_graphviz(estimadores, out_file='dotfile',               \n",
    "                rounded = True, proportion = False, \n",
    "                precision = 2, filled = True)"
   ]
  },
  {
   "cell_type": "code",
   "execution_count": 28,
   "metadata": {},
   "outputs": [],
   "source": [
    "from subprocess import call\n",
    "from os import system"
   ]
  },
  {
   "cell_type": "code",
   "execution_count": 31,
   "metadata": {},
   "outputs": [
    {
     "data": {
      "text/plain": [
       "32512"
      ]
     },
     "execution_count": 31,
     "metadata": {},
     "output_type": "execute_result"
    }
   ],
   "source": [
    "#call(['dot', '-Tpng', 'tree.dot', '-o', 'tree.png', '-Gdpi=600'])\n",
    "system(\"dot -Tpng D:.dot -o D:/dtree2.png\")"
   ]
  },
  {
   "cell_type": "code",
   "execution_count": 33,
   "metadata": {},
   "outputs": [
    {
     "ename": "NameError",
     "evalue": "name 'Im' is not defined",
     "output_type": "error",
     "traceback": [
      "\u001b[0;31m---------------------------------------------------------------------------\u001b[0m",
      "\u001b[0;31mNameError\u001b[0m                                 Traceback (most recent call last)",
      "\u001b[0;32m<ipython-input-33-0e6a737add94>\u001b[0m in \u001b[0;36m<module>\u001b[0;34m\u001b[0m\n\u001b[1;32m      1\u001b[0m \u001b[0;32mfrom\u001b[0m \u001b[0mIPython\u001b[0m\u001b[0;34m.\u001b[0m\u001b[0mdisplay\u001b[0m \u001b[0;32mimport\u001b[0m \u001b[0mImage\u001b[0m\u001b[0;34m\u001b[0m\u001b[0;34m\u001b[0m\u001b[0m\n\u001b[0;32m----> 2\u001b[0;31m \u001b[0mIm\u001b[0m\u001b[0;34m(\u001b[0m\u001b[0mfilename\u001b[0m \u001b[0;34m=\u001b[0m \u001b[0;34m'D:/dtree2.png'\u001b[0m\u001b[0;34m)\u001b[0m\u001b[0;34m\u001b[0m\u001b[0;34m\u001b[0m\u001b[0m\n\u001b[0m",
      "\u001b[0;31mNameError\u001b[0m: name 'Im' is not defined"
     ]
    }
   ],
   "source": [
    "from IPython.display import Image\n",
    "Im(filename = 'D:/dtree2.png')"
   ]
  }
 ],
 "metadata": {
  "kernelspec": {
   "display_name": "Python 3",
   "language": "python",
   "name": "python3"
  },
  "language_info": {
   "codemirror_mode": {
    "name": "ipython",
    "version": 3
   },
   "file_extension": ".py",
   "mimetype": "text/x-python",
   "name": "python",
   "nbconvert_exporter": "python",
   "pygments_lexer": "ipython3",
   "version": "3.6.7"
  }
 },
 "nbformat": 4,
 "nbformat_minor": 2
}
